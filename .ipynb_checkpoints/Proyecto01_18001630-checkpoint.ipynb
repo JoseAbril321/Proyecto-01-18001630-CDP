{
 "cells": [
  {
   "cell_type": "markdown",
   "id": "51012e4f-139d-4803-a9f1-cbbd718021a6",
   "metadata": {
    "tags": []
   },
   "source": [
    "# 1. Imports"
   ]
  },
  {
   "cell_type": "code",
   "execution_count": 19,
   "id": "8e9e8445-502b-43c5-8468-b62df1a1df19",
   "metadata": {},
   "outputs": [],
   "source": [
    "import numpy as np\n",
    "import pandas as pd\n",
    "import matplotlib.pyplot as plt\n",
    "import seaborn as sns\n",
    "from sklearn.linear_model import LinearRegression\n",
    "import random"
   ]
  },
  {
   "cell_type": "markdown",
   "id": "ac603113-ef4c-47e6-956d-5a5f77a4fb31",
   "metadata": {},
   "source": [
    "# 2. Recolectar Datos y divicion de Datos"
   ]
  },
  {
   "cell_type": "code",
   "execution_count": 41,
   "id": "66998870-c34e-4a72-ae45-4ec3fd9c01a5",
   "metadata": {
    "tags": []
   },
   "outputs": [
    {
     "data": {
      "text/plain": [
       "(1460, 6)"
      ]
     },
     "execution_count": 41,
     "metadata": {},
     "output_type": "execute_result"
    }
   ],
   "source": [
    "data = np.load('proyecto_data/proyecto_training_data.npy')\n",
    "data.shape"
   ]
  },
  {
   "cell_type": "code",
   "execution_count": 79,
   "id": "86dff265-3abd-48b5-baad-07224456e56e",
   "metadata": {
    "tags": []
   },
   "outputs": [],
   "source": [
    "size = np.shape(data)[0]\n",
    "secctions = np.split(data, 10)\n",
    "np.shape(secctions)\n",
    "training_data = []\n",
    "for i in range(8):\n",
    "    training_data.append(secctions.pop(random.randint(0,9-i)))\n",
    "validating_data = secctions"
   ]
  },
  {
   "cell_type": "code",
   "execution_count": 80,
   "id": "2b7117e2-4ccb-42e7-a886-2a0323a5cfe4",
   "metadata": {
    "tags": []
   },
   "outputs": [],
   "source": [
    "training_data = np.array(training_data)\n",
    "validating_data = np.array(validating_data)"
   ]
  },
  {
   "cell_type": "code",
   "execution_count": 81,
   "id": "0dca712e-db40-441b-a8b8-92e42a894acc",
   "metadata": {
    "tags": []
   },
   "outputs": [],
   "source": [
    "training_data = np.reshape(training_data, [np.shape(training_data)[0] * np.shape(training_data)[1], np.shape(training_data)[2]])\n",
    "validating_data = np.reshape(validating_data, [np.shape(validating_data)[0] * np.shape(validating_data)[1], np.shape(validating_data)[2]])"
   ]
  },
  {
   "cell_type": "code",
   "execution_count": 82,
   "id": "30bd454a-1d28-4b4f-b6a3-9fb9293dbe2f",
   "metadata": {
    "tags": []
   },
   "outputs": [
    {
     "data": {
      "text/plain": [
       "(1168, 6)"
      ]
     },
     "execution_count": 82,
     "metadata": {},
     "output_type": "execute_result"
    }
   ],
   "source": [
    "np.shape(training_data)"
   ]
  },
  {
   "cell_type": "code",
   "execution_count": 83,
   "id": "590c8889-950f-4d92-af9b-3625ada8d445",
   "metadata": {
    "tags": []
   },
   "outputs": [
    {
     "data": {
      "text/plain": [
       "(292, 6)"
      ]
     },
     "execution_count": 83,
     "metadata": {},
     "output_type": "execute_result"
    }
   ],
   "source": [
    "validating_data.shape"
   ]
  },
  {
   "cell_type": "markdown",
   "id": "9d59de93-d5c7-44ec-a730-e60af51652f6",
   "metadata": {},
   "source": [
    "# 3. Anáslisis Exploratorio"
   ]
  },
  {
   "cell_type": "code",
   "execution_count": null,
   "id": "12842bc0-a17e-481b-9854-6c0316a7d9cb",
   "metadata": {},
   "outputs": [],
   "source": []
  }
 ],
 "metadata": {
  "kernelspec": {
   "display_name": "Python 3 (ipykernel)",
   "language": "python",
   "name": "python3"
  },
  "language_info": {
   "codemirror_mode": {
    "name": "ipython",
    "version": 3
   },
   "file_extension": ".py",
   "mimetype": "text/x-python",
   "name": "python",
   "nbconvert_exporter": "python",
   "pygments_lexer": "ipython3",
   "version": "3.11.5"
  }
 },
 "nbformat": 4,
 "nbformat_minor": 5
}
